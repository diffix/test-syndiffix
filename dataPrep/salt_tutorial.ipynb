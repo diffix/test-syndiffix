{
 "cells": [
  {
   "cell_type": "markdown",
   "metadata": {},
   "source": [
    "## SynDiffix Salt Usage Tutorial\n",
    "\n",
    "zzzz\n",
    "\n",
    "### Setup\n",
    "\n",
    "The `syndiffix` package requires Python 3.10 or later. Let's install it and other packages we'll need for the notebook."
   ]
  },
  {
   "cell_type": "code",
   "execution_count": 1,
   "metadata": {},
   "outputs": [
    {
     "name": "stdout",
     "output_type": "stream",
     "text": [
      "Note: you may need to restart the kernel to use updated packages.\n"
     ]
    }
   ],
   "source": [
    "%pip install -q syndiffix requests pandas"
   ]
  },
  {
   "cell_type": "markdown",
   "metadata": {},
   "source": [
    "### Loading the dataset\n",
    "\n",
    "We'll use the `loan` dataset from the Czech banking dataset. A cleaned-up version is available at open-diffix.org."
   ]
  },
  {
   "cell_type": "code",
   "execution_count": 2,
   "metadata": {},
   "outputs": [
    {
     "name": "stdout",
     "output_type": "stream",
     "text": [
      "  loan_id account_id  loan_date  amount  duration  payments status  defaulted\n",
      "0    5314       1787 1993-07-05   96396        12    8033.0      B       True\n",
      "1    5316       1801 1993-07-11  165960        36    4610.0      A      False\n",
      "2    6863       9188 1993-07-28  127080        60    2118.0      A      False\n",
      "3    5325       1843 1993-08-03  105804        36    2939.0      A      False\n",
      "4    7240      11013 1993-09-06  274740        60    4579.0      A      False\n"
     ]
    }
   ],
   "source": [
    "import requests\n",
    "import bz2\n",
    "import pickle\n",
    "def download_and_load(url):\n",
    "    response = requests.get(url)\n",
    "    data = bz2.decompress(response.content)\n",
    "    df = pickle.loads(data)\n",
    "    return df\n",
    "\n",
    "# Usage\n",
    "df_loan = download_and_load('http://open-diffix.org/datasets/loan.pbz2')\n",
    "print(df_loan.head())"
   ]
  },
  {
   "cell_type": "markdown",
   "metadata": {},
   "source": [
    "### Inspect the salt\n",
    "\n",
    "SynDiffix has a secret salt that it uses to ensure \"stickyness\" in the synthetic data. The salt is stored in a user-specific application file so that it is always the same when the same user runs SynDiffix on the same machine.\n",
    "\n",
    "Let's start up an Synthesizer class for the `defaulted` column in the loans table and view the salt (a byte string)."
   ]
  },
  {
   "cell_type": "code",
   "execution_count": 3,
   "metadata": {},
   "outputs": [
    {
     "name": "stdout",
     "output_type": "stream",
     "text": [
      "b'\\xb62(<\\x0b\\xc4\\x83C'\n"
     ]
    }
   ],
   "source": [
    "from syndiffix import Synthesizer\n",
    "from syndiffix.common import AnonymizationParams\n",
    "\n",
    "df_pid = df_loan[['account_id']]\n",
    "syn = Synthesizer(df_loan[['defaulted']], pids=df_pid)\n",
    "print(syn.forest.anonymization_params.salt)"
   ]
  },
  {
   "cell_type": "markdown",
   "metadata": {},
   "source": [
    "Here is where the file holding the salt can be found (though normally there is no reason to view the file):"
   ]
  },
  {
   "cell_type": "code",
   "execution_count": 6,
   "metadata": {},
   "outputs": [
    {
     "name": "stdout",
     "output_type": "stream",
     "text": [
      "C:\\Users\\local_francis\\AppData\\Local\\OpenDiffix\\SynDiffix\n"
     ]
    }
   ],
   "source": [
    "from appdirs import user_config_dir\n",
    "print(user_config_dir(\"SynDiffix\", \"OpenDiffix\"))"
   ]
  },
  {
   "cell_type": "markdown",
   "metadata": {},
   "source": [
    "Let's synthesize multiple `loan_date` column datasets. We can see that each one produces the same results."
   ]
  },
  {
   "cell_type": "code",
   "execution_count": 14,
   "metadata": {},
   "outputs": [
    {
     "name": "stdout",
     "output_type": "stream",
     "text": [
      "Num rows: 682\n",
      "            loan_date\n",
      "4 1993-08-30 08:04:34\n",
      "5 1993-09-01 19:11:49\n",
      "1 1993-09-03 10:06:47\n",
      "3 1993-09-12 20:04:39\n",
      "2 1993-09-15 16:54:13\n",
      "Num rows: 682\n",
      "            loan_date\n",
      "4 1993-08-30 08:04:34\n",
      "5 1993-09-01 19:11:49\n",
      "1 1993-09-03 10:06:47\n",
      "3 1993-09-12 20:04:39\n",
      "2 1993-09-15 16:54:13\n",
      "Num rows: 682\n",
      "            loan_date\n",
      "4 1993-08-30 08:04:34\n",
      "5 1993-09-01 19:11:49\n",
      "1 1993-09-03 10:06:47\n",
      "3 1993-09-12 20:04:39\n",
      "2 1993-09-15 16:54:13\n",
      "Num rows: 682\n",
      "            loan_date\n",
      "4 1993-08-30 08:04:34\n",
      "5 1993-09-01 19:11:49\n",
      "1 1993-09-03 10:06:47\n",
      "3 1993-09-12 20:04:39\n",
      "2 1993-09-15 16:54:13\n",
      "Num rows: 682\n",
      "            loan_date\n",
      "4 1993-08-30 08:04:34\n",
      "5 1993-09-01 19:11:49\n",
      "1 1993-09-03 10:06:47\n",
      "3 1993-09-12 20:04:39\n",
      "2 1993-09-15 16:54:13\n"
     ]
    }
   ],
   "source": [
    "for i in range(5):\n",
    "    df_syn_date = Synthesizer(df_loan[['loan_date']], pids=df_pid).sample()\n",
    "    print(f\"Num rows: {len(df_syn_date)}\")\n",
    "    print(df_syn_date.sort_values(by='loan_date').head())"
   ]
  },
  {
   "cell_type": "markdown",
   "metadata": {},
   "source": [
    "From the above, we see that the number of rows and first five dates are all the same.\n",
    "\n",
    "Now let's do it again, but this time manually setting the salt each time."
   ]
  },
  {
   "cell_type": "code",
   "execution_count": 15,
   "metadata": {},
   "outputs": [
    {
     "name": "stdout",
     "output_type": "stream",
     "text": [
      "Num rows: 682\n",
      "            loan_date\n",
      "4 1993-08-30 08:04:34\n",
      "5 1993-09-01 19:11:49\n",
      "1 1993-09-03 10:06:47\n",
      "3 1993-09-12 20:04:39\n",
      "2 1993-09-15 16:54:13\n",
      "Num rows: 683\n",
      "            loan_date\n",
      "4 1993-07-15 19:01:57\n",
      "1 1993-07-23 23:06:23\n",
      "3 1993-08-11 19:02:07\n",
      "2 1993-08-17 12:41:15\n",
      "0 1993-08-30 22:27:45\n",
      "Num rows: 682\n",
      "            loan_date\n",
      "4 1993-07-15 19:01:57\n",
      "5 1993-07-20 17:16:26\n",
      "1 1993-07-23 23:06:23\n",
      "3 1993-08-11 19:02:07\n",
      "2 1993-08-17 12:41:15\n",
      "Num rows: 681\n",
      "            loan_date\n",
      "4 1993-07-15 19:01:57\n",
      "5 1993-07-20 17:16:26\n",
      "1 1993-07-23 23:06:23\n",
      "3 1993-08-11 19:02:07\n",
      "2 1993-08-17 12:41:15\n",
      "Num rows: 680\n",
      "            loan_date\n",
      "4 1993-07-15 19:01:57\n",
      "7 1993-07-16 09:47:40\n",
      "5 1993-07-20 17:16:26\n",
      "1 1993-07-23 23:06:23\n",
      "3 1993-08-11 19:02:07\n"
     ]
    }
   ],
   "source": [
    "for i in range(5):\n",
    "    df_syn_date = Synthesizer(df_loan[['loan_date']], pids=df_pid,\n",
    "            anonymization_params=AnonymizationParams(salt=bytes([i]))).sample()\n",
    "    print(f\"Num rows: {len(df_syn_date)}\")\n",
    "    print(df_syn_date.sort_values(by='loan_date').head())"
   ]
  },
  {
   "cell_type": "markdown",
   "metadata": {},
   "source": [
    "This time, we see that the number of rows changes slightly with each different salt, and the dates themselves are different.\n",
    "\n",
    "The main reason for setting the salt is so that different users building synthetic data on different machines can still benefit from stickyness. This strengthens anonymity compared to allowing different randomness with each synthetic dataset."
   ]
  }
 ],
 "metadata": {
  "kernelspec": {
   "display_name": "Python 3",
   "language": "python",
   "name": "python3"
  },
  "language_info": {
   "codemirror_mode": {
    "name": "ipython",
    "version": 3
   },
   "file_extension": ".py",
   "mimetype": "text/x-python",
   "name": "python",
   "nbconvert_exporter": "python",
   "pygments_lexer": "ipython3",
   "version": "3.11.5"
  }
 },
 "nbformat": 4,
 "nbformat_minor": 2
}
