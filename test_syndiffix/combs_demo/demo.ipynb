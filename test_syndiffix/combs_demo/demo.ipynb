{
 "cells": [
  {
   "cell_type": "markdown",
   "metadata": {},
   "source": [
    "## SynDiffix Demo\n",
    "\n",
    "This demo emulates how SynDiffix could be used if it were implemented in SQL. \n",
    "\n",
    "To emulate this, what we have done is pre-synthesized different combinations of columns and cached the results. In a real implementation, `SELECT col1, col2 FROM table` would cause only columns `col1` and `col2` to be synthesized. Likely the result would be cached, and subsequent operations on the same two columns would use the cached synthesized data. This demo essentially mimics queries to the cached syntheses.\n",
    "\n",
    "### Tables\n",
    "\n",
    "This demo looks at two datasets, the `census` dataset and the `taxi` dataset. We'll learn more about those datasets as we go."
   ]
  },
  {
   "cell_type": "code",
   "execution_count": 1,
   "metadata": {},
   "outputs": [],
   "source": [
    "import combsTables\n",
    "import pandas as pd\n",
    "import matplotlib.pyplot as plt\n",
    "qh = combsTables.queryHandler(pgHost='db001.gda-score.org', pgUser='direct_user', pgPass='demo', dbName='sdx_demo')"
   ]
  },
  {
   "cell_type": "markdown",
   "metadata": {},
   "source": [
    "### Comparing synthetic and original data\n",
    "\n",
    "In this notebook, we frequently make comparisions between the original and synthetic data. In practice, for an untrusted user, this won't be possible. However, it will be possible to provide an indication as to the accuracy of the synthetic data, both in terms of coverage and numeric accuracy."
   ]
  },
  {
   "cell_type": "markdown",
   "metadata": {},
   "source": [
    "## Census"
   ]
  },
  {
   "cell_type": "markdown",
   "metadata": {},
   "source": [
    "### SELECT * FROM census\n",
    "\n",
    "The first thing a user is likely to do when encountering a new dataset is to inspect the first few rows of data. We do that here for the census data.\n",
    "\n",
    "Note that with SynDiffix, the more columns you synthesize, the worse the accuracy per-column. Therefore, `SELECT *` is useful for an initial inspection of the data values, but should not be used for statistical analysis of specific parts of the data. (On the other hand, it should also be used for ML modeling use cases, but at the moment we are not emulating that.)\n",
    "\n",
    "The following code (`qh.query(sql)`) is used to generate results for both the original and synthesized data. We do that here so that we can compare the two. Naturally in a real setting with an untrusted user, the original data would not be returned. `qh.query(sql)` also selects the appropriate cached synthetic dataset to use. It does this by inspecting the columns selected in the query, and selecting the synthetic table that has only those columns."
   ]
  },
  {
   "cell_type": "code",
   "execution_count": 2,
   "metadata": {},
   "outputs": [],
   "source": [
    "sql = \"SELECT * FROM census_orig_ LIMIT 5\"\n",
    "dfOrigAll, dfSynAll = qh.query(sql)"
   ]
  },
  {
   "cell_type": "markdown",
   "metadata": {},
   "source": [
    "Here are the first 5 rows of the original data:"
   ]
  },
  {
   "cell_type": "code",
   "execution_count": 3,
   "metadata": {},
   "outputs": [
    {
     "data": {
      "text/html": [
       "<div>\n",
       "<style scoped>\n",
       "    .dataframe tbody tr th:only-of-type {\n",
       "        vertical-align: middle;\n",
       "    }\n",
       "\n",
       "    .dataframe tbody tr th {\n",
       "        vertical-align: top;\n",
       "    }\n",
       "\n",
       "    .dataframe thead th {\n",
       "        text-align: right;\n",
       "    }\n",
       "</style>\n",
       "<table border=\"1\" class=\"dataframe\">\n",
       "  <thead>\n",
       "    <tr style=\"text-align: right;\">\n",
       "      <th></th>\n",
       "      <th>index</th>\n",
       "      <th>age</th>\n",
       "      <th>class of worker</th>\n",
       "      <th>detailed industry recode</th>\n",
       "      <th>detailed occupation recode</th>\n",
       "      <th>education</th>\n",
       "      <th>wage per hour</th>\n",
       "      <th>enroll in edu inst last wk</th>\n",
       "      <th>marital stat</th>\n",
       "      <th>major industry code</th>\n",
       "      <th>...</th>\n",
       "      <th>country of birth father</th>\n",
       "      <th>country of birth mother</th>\n",
       "      <th>country of birth self</th>\n",
       "      <th>citizenship</th>\n",
       "      <th>own business or self employed</th>\n",
       "      <th>fill inc questionnaire for veteran's admin</th>\n",
       "      <th>veterans benefits</th>\n",
       "      <th>weeks worked in year</th>\n",
       "      <th>year</th>\n",
       "      <th>label</th>\n",
       "    </tr>\n",
       "  </thead>\n",
       "  <tbody>\n",
       "    <tr>\n",
       "      <th>0</th>\n",
       "      <td>0</td>\n",
       "      <td>34.0</td>\n",
       "      <td>Self-employed-incorporated</td>\n",
       "      <td>35.0</td>\n",
       "      <td>17.0</td>\n",
       "      <td>Some college but no degree</td>\n",
       "      <td>0.0</td>\n",
       "      <td>Not in universe</td>\n",
       "      <td>Separated</td>\n",
       "      <td>Finance insurance and real estate</td>\n",
       "      <td>...</td>\n",
       "      <td>Mexico</td>\n",
       "      <td>Mexico</td>\n",
       "      <td>Mexico</td>\n",
       "      <td>Foreign born- U S citizen by naturalization</td>\n",
       "      <td>0.0</td>\n",
       "      <td>Not in universe</td>\n",
       "      <td>2.0</td>\n",
       "      <td>52.0</td>\n",
       "      <td>95.0</td>\n",
       "      <td>50000+</td>\n",
       "    </tr>\n",
       "    <tr>\n",
       "      <th>1</th>\n",
       "      <td>1</td>\n",
       "      <td>13.0</td>\n",
       "      <td>Not in universe</td>\n",
       "      <td>0.0</td>\n",
       "      <td>0.0</td>\n",
       "      <td>Children</td>\n",
       "      <td>0.0</td>\n",
       "      <td>Not in universe</td>\n",
       "      <td>Never married</td>\n",
       "      <td>Not in universe or children</td>\n",
       "      <td>...</td>\n",
       "      <td>United-States</td>\n",
       "      <td>United-States</td>\n",
       "      <td>United-States</td>\n",
       "      <td>Native- Born in the United States</td>\n",
       "      <td>0.0</td>\n",
       "      <td>Not in universe</td>\n",
       "      <td>0.0</td>\n",
       "      <td>0.0</td>\n",
       "      <td>95.0</td>\n",
       "      <td>- 50000</td>\n",
       "    </tr>\n",
       "    <tr>\n",
       "      <th>2</th>\n",
       "      <td>2</td>\n",
       "      <td>18.0</td>\n",
       "      <td>Not in universe</td>\n",
       "      <td>0.0</td>\n",
       "      <td>0.0</td>\n",
       "      <td>12th grade no diploma</td>\n",
       "      <td>0.0</td>\n",
       "      <td>High school</td>\n",
       "      <td>Never married</td>\n",
       "      <td>Not in universe or children</td>\n",
       "      <td>...</td>\n",
       "      <td>United-States</td>\n",
       "      <td>United-States</td>\n",
       "      <td>United-States</td>\n",
       "      <td>Native- Born in the United States</td>\n",
       "      <td>0.0</td>\n",
       "      <td>Not in universe</td>\n",
       "      <td>2.0</td>\n",
       "      <td>8.0</td>\n",
       "      <td>95.0</td>\n",
       "      <td>- 50000</td>\n",
       "    </tr>\n",
       "    <tr>\n",
       "      <th>3</th>\n",
       "      <td>3</td>\n",
       "      <td>27.0</td>\n",
       "      <td>Private</td>\n",
       "      <td>42.0</td>\n",
       "      <td>13.0</td>\n",
       "      <td>Associates degree-occup /vocational</td>\n",
       "      <td>0.0</td>\n",
       "      <td>Not in universe</td>\n",
       "      <td>Never married</td>\n",
       "      <td>Medical except hospital</td>\n",
       "      <td>...</td>\n",
       "      <td>United-States</td>\n",
       "      <td>United-States</td>\n",
       "      <td>United-States</td>\n",
       "      <td>Native- Born in the United States</td>\n",
       "      <td>0.0</td>\n",
       "      <td>Not in universe</td>\n",
       "      <td>2.0</td>\n",
       "      <td>50.0</td>\n",
       "      <td>95.0</td>\n",
       "      <td>- 50000</td>\n",
       "    </tr>\n",
       "    <tr>\n",
       "      <th>4</th>\n",
       "      <td>4</td>\n",
       "      <td>6.0</td>\n",
       "      <td>Not in universe</td>\n",
       "      <td>0.0</td>\n",
       "      <td>0.0</td>\n",
       "      <td>Children</td>\n",
       "      <td>0.0</td>\n",
       "      <td>Not in universe</td>\n",
       "      <td>Never married</td>\n",
       "      <td>Not in universe or children</td>\n",
       "      <td>...</td>\n",
       "      <td>Philippines</td>\n",
       "      <td>Philippines</td>\n",
       "      <td>United-States</td>\n",
       "      <td>Native- Born in the United States</td>\n",
       "      <td>0.0</td>\n",
       "      <td>Not in universe</td>\n",
       "      <td>0.0</td>\n",
       "      <td>0.0</td>\n",
       "      <td>94.0</td>\n",
       "      <td>- 50000</td>\n",
       "    </tr>\n",
       "  </tbody>\n",
       "</table>\n",
       "<p>5 rows × 42 columns</p>\n",
       "</div>"
      ],
      "text/plain": [
       "   index   age             class of worker  detailed industry recode  \\\n",
       "0      0  34.0  Self-employed-incorporated                      35.0   \n",
       "1      1  13.0             Not in universe                       0.0   \n",
       "2      2  18.0             Not in universe                       0.0   \n",
       "3      3  27.0                     Private                      42.0   \n",
       "4      4   6.0             Not in universe                       0.0   \n",
       "\n",
       "   detailed occupation recode                            education  \\\n",
       "0                        17.0           Some college but no degree   \n",
       "1                         0.0                             Children   \n",
       "2                         0.0                12th grade no diploma   \n",
       "3                        13.0  Associates degree-occup /vocational   \n",
       "4                         0.0                             Children   \n",
       "\n",
       "   wage per hour enroll in edu inst last wk   marital stat  \\\n",
       "0            0.0            Not in universe      Separated   \n",
       "1            0.0            Not in universe  Never married   \n",
       "2            0.0                High school  Never married   \n",
       "3            0.0            Not in universe  Never married   \n",
       "4            0.0            Not in universe  Never married   \n",
       "\n",
       "                 major industry code  ... country of birth father  \\\n",
       "0  Finance insurance and real estate  ...                  Mexico   \n",
       "1        Not in universe or children  ...           United-States   \n",
       "2        Not in universe or children  ...           United-States   \n",
       "3            Medical except hospital  ...           United-States   \n",
       "4        Not in universe or children  ...             Philippines   \n",
       "\n",
       "  country of birth mother country of birth self  \\\n",
       "0                  Mexico                Mexico   \n",
       "1           United-States         United-States   \n",
       "2           United-States         United-States   \n",
       "3           United-States         United-States   \n",
       "4             Philippines         United-States   \n",
       "\n",
       "                                   citizenship own business or self employed  \\\n",
       "0  Foreign born- U S citizen by naturalization                           0.0   \n",
       "1            Native- Born in the United States                           0.0   \n",
       "2            Native- Born in the United States                           0.0   \n",
       "3            Native- Born in the United States                           0.0   \n",
       "4            Native- Born in the United States                           0.0   \n",
       "\n",
       "  fill inc questionnaire for veteran's admin veterans benefits  \\\n",
       "0                            Not in universe               2.0   \n",
       "1                            Not in universe               0.0   \n",
       "2                            Not in universe               2.0   \n",
       "3                            Not in universe               2.0   \n",
       "4                            Not in universe               0.0   \n",
       "\n",
       "   weeks worked in year  year    label  \n",
       "0                  52.0  95.0   50000+  \n",
       "1                   0.0  95.0  - 50000  \n",
       "2                   8.0  95.0  - 50000  \n",
       "3                  50.0  95.0  - 50000  \n",
       "4                   0.0  94.0  - 50000  \n",
       "\n",
       "[5 rows x 42 columns]"
      ]
     },
     "execution_count": 3,
     "metadata": {},
     "output_type": "execute_result"
    }
   ],
   "source": [
    "dfOrigAll.head()"
   ]
  },
  {
   "cell_type": "markdown",
   "metadata": {},
   "source": [
    "And here they are for the synthesized data:"
   ]
  },
  {
   "cell_type": "code",
   "execution_count": 4,
   "metadata": {},
   "outputs": [
    {
     "data": {
      "text/html": [
       "<div>\n",
       "<style scoped>\n",
       "    .dataframe tbody tr th:only-of-type {\n",
       "        vertical-align: middle;\n",
       "    }\n",
       "\n",
       "    .dataframe tbody tr th {\n",
       "        vertical-align: top;\n",
       "    }\n",
       "\n",
       "    .dataframe thead th {\n",
       "        text-align: right;\n",
       "    }\n",
       "</style>\n",
       "<table border=\"1\" class=\"dataframe\">\n",
       "  <thead>\n",
       "    <tr style=\"text-align: right;\">\n",
       "      <th></th>\n",
       "      <th>index</th>\n",
       "      <th>age</th>\n",
       "      <th>class of worker</th>\n",
       "      <th>detailed industry recode</th>\n",
       "      <th>detailed occupation recode</th>\n",
       "      <th>education</th>\n",
       "      <th>wage per hour</th>\n",
       "      <th>enroll in edu inst last wk</th>\n",
       "      <th>marital stat</th>\n",
       "      <th>major industry code</th>\n",
       "      <th>...</th>\n",
       "      <th>country of birth father</th>\n",
       "      <th>country of birth mother</th>\n",
       "      <th>country of birth self</th>\n",
       "      <th>citizenship</th>\n",
       "      <th>own business or self employed</th>\n",
       "      <th>fill inc questionnaire for veteran's admin</th>\n",
       "      <th>veterans benefits</th>\n",
       "      <th>weeks worked in year</th>\n",
       "      <th>year</th>\n",
       "      <th>label</th>\n",
       "    </tr>\n",
       "  </thead>\n",
       "  <tbody>\n",
       "    <tr>\n",
       "      <th>0</th>\n",
       "      <td>0</td>\n",
       "      <td>45.0</td>\n",
       "      <td>Private</td>\n",
       "      <td>19.0</td>\n",
       "      <td>36.0</td>\n",
       "      <td>Bachelors degree(BA AB BS)</td>\n",
       "      <td>0.0</td>\n",
       "      <td>Not in universe</td>\n",
       "      <td>Never married</td>\n",
       "      <td>Manufacturing-durable goods</td>\n",
       "      <td>...</td>\n",
       "      <td>United-States</td>\n",
       "      <td>United-States</td>\n",
       "      <td>United-States</td>\n",
       "      <td>Native- Born in the United States</td>\n",
       "      <td>0.0</td>\n",
       "      <td>Not in universe</td>\n",
       "      <td>2.0</td>\n",
       "      <td>18.0</td>\n",
       "      <td>95.0</td>\n",
       "      <td>- 50000</td>\n",
       "    </tr>\n",
       "    <tr>\n",
       "      <th>1</th>\n",
       "      <td>1</td>\n",
       "      <td>30.0</td>\n",
       "      <td>Private</td>\n",
       "      <td>16.0</td>\n",
       "      <td>35.0</td>\n",
       "      <td>11th grade</td>\n",
       "      <td>0.0</td>\n",
       "      <td>Not in universe</td>\n",
       "      <td>Never married</td>\n",
       "      <td>Manufacturing-durable goods</td>\n",
       "      <td>...</td>\n",
       "      <td>United-States</td>\n",
       "      <td>United-States</td>\n",
       "      <td>United-States</td>\n",
       "      <td>Native- Born in the United States</td>\n",
       "      <td>0.0</td>\n",
       "      <td>Not in universe</td>\n",
       "      <td>2.0</td>\n",
       "      <td>52.0</td>\n",
       "      <td>95.0</td>\n",
       "      <td>- 50000</td>\n",
       "    </tr>\n",
       "    <tr>\n",
       "      <th>2</th>\n",
       "      <td>2</td>\n",
       "      <td>21.0</td>\n",
       "      <td>Local government</td>\n",
       "      <td>43.0</td>\n",
       "      <td>10.0</td>\n",
       "      <td>High school graduate</td>\n",
       "      <td>0.0</td>\n",
       "      <td>College or university</td>\n",
       "      <td>Never married</td>\n",
       "      <td>Education</td>\n",
       "      <td>...</td>\n",
       "      <td>United-States</td>\n",
       "      <td>United-States</td>\n",
       "      <td>United-States</td>\n",
       "      <td>Native- Born in the United States</td>\n",
       "      <td>0.0</td>\n",
       "      <td>Not in universe</td>\n",
       "      <td>2.0</td>\n",
       "      <td>52.0</td>\n",
       "      <td>95.0</td>\n",
       "      <td>- 50000</td>\n",
       "    </tr>\n",
       "    <tr>\n",
       "      <th>3</th>\n",
       "      <td>3</td>\n",
       "      <td>20.0</td>\n",
       "      <td>Private</td>\n",
       "      <td>33.0</td>\n",
       "      <td>17.0</td>\n",
       "      <td>Some college but no degree</td>\n",
       "      <td>0.0</td>\n",
       "      <td>Not in universe</td>\n",
       "      <td>Never married</td>\n",
       "      <td>Retail trade</td>\n",
       "      <td>...</td>\n",
       "      <td>United-States</td>\n",
       "      <td>United-States</td>\n",
       "      <td>United-States</td>\n",
       "      <td>Native- Born in the United States</td>\n",
       "      <td>2.0</td>\n",
       "      <td>Not in universe</td>\n",
       "      <td>2.0</td>\n",
       "      <td>52.0</td>\n",
       "      <td>94.0</td>\n",
       "      <td>- 50000</td>\n",
       "    </tr>\n",
       "    <tr>\n",
       "      <th>4</th>\n",
       "      <td>4</td>\n",
       "      <td>21.0</td>\n",
       "      <td>Private</td>\n",
       "      <td>39.0</td>\n",
       "      <td>13.0</td>\n",
       "      <td>Some college but no degree</td>\n",
       "      <td>0.0</td>\n",
       "      <td>Not in universe</td>\n",
       "      <td>Never married</td>\n",
       "      <td>Business and repair services</td>\n",
       "      <td>...</td>\n",
       "      <td>United-States</td>\n",
       "      <td>United-States</td>\n",
       "      <td>United-States</td>\n",
       "      <td>Native- Born in the United States</td>\n",
       "      <td>0.0</td>\n",
       "      <td>Not in universe</td>\n",
       "      <td>2.0</td>\n",
       "      <td>13.0</td>\n",
       "      <td>94.0</td>\n",
       "      <td>- 50000</td>\n",
       "    </tr>\n",
       "  </tbody>\n",
       "</table>\n",
       "<p>5 rows × 42 columns</p>\n",
       "</div>"
      ],
      "text/plain": [
       "   index   age   class of worker  detailed industry recode  \\\n",
       "0      0  45.0           Private                      19.0   \n",
       "1      1  30.0           Private                      16.0   \n",
       "2      2  21.0  Local government                      43.0   \n",
       "3      3  20.0           Private                      33.0   \n",
       "4      4  21.0           Private                      39.0   \n",
       "\n",
       "   detailed occupation recode                   education  wage per hour  \\\n",
       "0                        36.0  Bachelors degree(BA AB BS)            0.0   \n",
       "1                        35.0                  11th grade            0.0   \n",
       "2                        10.0        High school graduate            0.0   \n",
       "3                        17.0  Some college but no degree            0.0   \n",
       "4                        13.0  Some college but no degree            0.0   \n",
       "\n",
       "  enroll in edu inst last wk   marital stat           major industry code  \\\n",
       "0            Not in universe  Never married   Manufacturing-durable goods   \n",
       "1            Not in universe  Never married   Manufacturing-durable goods   \n",
       "2      College or university  Never married                     Education   \n",
       "3            Not in universe  Never married                  Retail trade   \n",
       "4            Not in universe  Never married  Business and repair services   \n",
       "\n",
       "   ... country of birth father country of birth mother country of birth self  \\\n",
       "0  ...           United-States           United-States         United-States   \n",
       "1  ...           United-States           United-States         United-States   \n",
       "2  ...           United-States           United-States         United-States   \n",
       "3  ...           United-States           United-States         United-States   \n",
       "4  ...           United-States           United-States         United-States   \n",
       "\n",
       "                         citizenship own business or self employed  \\\n",
       "0  Native- Born in the United States                           0.0   \n",
       "1  Native- Born in the United States                           0.0   \n",
       "2  Native- Born in the United States                           0.0   \n",
       "3  Native- Born in the United States                           2.0   \n",
       "4  Native- Born in the United States                           0.0   \n",
       "\n",
       "  fill inc questionnaire for veteran's admin veterans benefits  \\\n",
       "0                            Not in universe               2.0   \n",
       "1                            Not in universe               2.0   \n",
       "2                            Not in universe               2.0   \n",
       "3                            Not in universe               2.0   \n",
       "4                            Not in universe               2.0   \n",
       "\n",
       "   weeks worked in year  year    label  \n",
       "0                  18.0  95.0  - 50000  \n",
       "1                  52.0  95.0  - 50000  \n",
       "2                  52.0  95.0  - 50000  \n",
       "3                  52.0  94.0  - 50000  \n",
       "4                  13.0  94.0  - 50000  \n",
       "\n",
       "[5 rows x 42 columns]"
      ]
     },
     "execution_count": 4,
     "metadata": {},
     "output_type": "execute_result"
    }
   ],
   "source": [
    "dfSynAll.head()"
   ]
  },
  {
   "cell_type": "markdown",
   "metadata": {},
   "source": [
    "We an see from this that a user can \"see\" the data perfectly well from the anonymized data. (Note that for columns with many unique values, this won't be the case.)"
   ]
  },
  {
   "cell_type": "markdown",
   "metadata": {},
   "source": [
    "### Basic statistics for continuous columns\n",
    "\n",
    "Most of the `census` data is categorical, but a few columns have continuous data. Let's look at a variety of statistics for `age`."
   ]
  },
  {
   "cell_type": "code",
   "execution_count": 5,
   "metadata": {},
   "outputs": [],
   "source": [
    "sql = '''\n",
    "SELECT count(age) as count,\n",
    "       count(distinct age) as distinct,\n",
    "       avg(age) as avg,\n",
    "       stddev(age) as stdev,\n",
    "       min(age) as min,\n",
    "       max(age) as max\n",
    "FROM census_orig_'''\n",
    "dfOrig, dfSyn = qh.query(sql)"
   ]
  },
  {
   "cell_type": "code",
   "execution_count": 6,
   "metadata": {},
   "outputs": [
    {
     "data": {
      "text/html": [
       "<div>\n",
       "<style scoped>\n",
       "    .dataframe tbody tr th:only-of-type {\n",
       "        vertical-align: middle;\n",
       "    }\n",
       "\n",
       "    .dataframe tbody tr th {\n",
       "        vertical-align: top;\n",
       "    }\n",
       "\n",
       "    .dataframe thead th {\n",
       "        text-align: right;\n",
       "    }\n",
       "</style>\n",
       "<table border=\"1\" class=\"dataframe\">\n",
       "  <thead>\n",
       "    <tr style=\"text-align: right;\">\n",
       "      <th></th>\n",
       "      <th>count</th>\n",
       "      <th>distinct</th>\n",
       "      <th>avg</th>\n",
       "      <th>stdev</th>\n",
       "      <th>min</th>\n",
       "      <th>max</th>\n",
       "    </tr>\n",
       "  </thead>\n",
       "  <tbody>\n",
       "    <tr>\n",
       "      <th>0</th>\n",
       "      <td>209499</td>\n",
       "      <td>91</td>\n",
       "      <td>34.545592</td>\n",
       "      <td>22.329496</td>\n",
       "      <td>0.0</td>\n",
       "      <td>90.0</td>\n",
       "    </tr>\n",
       "  </tbody>\n",
       "</table>\n",
       "</div>"
      ],
      "text/plain": [
       "    count  distinct        avg      stdev  min   max\n",
       "0  209499        91  34.545592  22.329496  0.0  90.0"
      ]
     },
     "execution_count": 6,
     "metadata": {},
     "output_type": "execute_result"
    }
   ],
   "source": [
    "dfOrig.head()"
   ]
  },
  {
   "cell_type": "code",
   "execution_count": 7,
   "metadata": {},
   "outputs": [
    {
     "data": {
      "text/html": [
       "<div>\n",
       "<style scoped>\n",
       "    .dataframe tbody tr th:only-of-type {\n",
       "        vertical-align: middle;\n",
       "    }\n",
       "\n",
       "    .dataframe tbody tr th {\n",
       "        vertical-align: top;\n",
       "    }\n",
       "\n",
       "    .dataframe thead th {\n",
       "        text-align: right;\n",
       "    }\n",
       "</style>\n",
       "<table border=\"1\" class=\"dataframe\">\n",
       "  <thead>\n",
       "    <tr style=\"text-align: right;\">\n",
       "      <th></th>\n",
       "      <th>count</th>\n",
       "      <th>distinct</th>\n",
       "      <th>avg</th>\n",
       "      <th>stdev</th>\n",
       "      <th>min</th>\n",
       "      <th>max</th>\n",
       "    </tr>\n",
       "  </thead>\n",
       "  <tbody>\n",
       "    <tr>\n",
       "      <th>0</th>\n",
       "      <td>209498</td>\n",
       "      <td>91</td>\n",
       "      <td>34.54602</td>\n",
       "      <td>22.329791</td>\n",
       "      <td>0.0</td>\n",
       "      <td>90.0</td>\n",
       "    </tr>\n",
       "  </tbody>\n",
       "</table>\n",
       "</div>"
      ],
      "text/plain": [
       "    count  distinct       avg      stdev  min   max\n",
       "0  209498        91  34.54602  22.329791  0.0  90.0"
      ]
     },
     "execution_count": 7,
     "metadata": {},
     "output_type": "execute_result"
    }
   ],
   "source": [
    "dfSyn.head()"
   ]
  },
  {
   "cell_type": "markdown",
   "metadata": {},
   "source": [
    "As can be seen from the above, the basic statistics for the original and synthesized data over the age column are extremely close. In this particular case, there are enough examples of every age that no ages were suppressed (the number of distinct ages are the same), and the min and max are also correct."
   ]
  },
  {
   "cell_type": "markdown",
   "metadata": {},
   "source": [
    "### Histogram of ages\n",
    "Let's look at a histogram of ages, grouped by 10. We use a little math to specify the grouping."
   ]
  },
  {
   "cell_type": "code",
   "execution_count": 8,
   "metadata": {},
   "outputs": [],
   "source": [
    "sql = '''\n",
    "SELECT (floor(age/10))*10 as age_by_10,\n",
    "       count(*) as cnt\n",
    "FROM census_orig_\n",
    "GROUP BY 1\n",
    "'''\n",
    "dfOrig, dfSyn = qh.query(sql)"
   ]
  },
  {
   "cell_type": "code",
   "execution_count": 9,
   "metadata": {},
   "outputs": [
    {
     "data": {
      "image/png": "[encoded data removed]",
      "text/plain": [
       "<Figure size 432x288 with 1 Axes>"
      ]
     },
     "metadata": {
      "needs_background": "light"
     },
     "output_type": "display_data"
    }
   ],
   "source": [
    "df = pd.merge(dfOrig, dfSyn, on='age_by_10')\n",
    "df = df.rename(columns={'cnt_x': 'Original', 'cnt_y': 'SynDiffix'})\n",
    "ax = df.plot(kind='bar', x='age_by_10')"
   ]
  },
  {
   "cell_type": "markdown",
   "metadata": {},
   "source": [
    "Of course, when the counts are large, the error is very small (here imperceptable)."
   ]
  },
  {
   "cell_type": "markdown",
   "metadata": {},
   "source": [
    "## Race and education\n",
    "\n",
    "Let's see if we can tease out the rationship between race and education. Let's start by looking at the distribution of each column."
   ]
  },
  {
   "cell_type": "code",
   "execution_count": 10,
   "metadata": {},
   "outputs": [],
   "source": [
    "sql = '''\n",
    "SELECT education, count(*) as cnt\n",
    "FROM census_orig_\n",
    "GROUP BY 1\n",
    "'''\n",
    "dfOrig, dfSyn = qh.query(sql)"
   ]
  },
  {
   "cell_type": "markdown",
   "metadata": {},
   "source": [
    "Let's use the following histogram to make sure that the synthetic data has the same number of categories as the original data, and is accurate. (Note again that a real system would provide this accuracy feedback.)"
   ]
  },
  {
   "cell_type": "code",
   "execution_count": 11,
   "metadata": {},
   "outputs": [
    {
     "data": {
      "text/plain": [
       "<AxesSubplot:xlabel='education'>"
      ]
     },
     "execution_count": 11,
     "metadata": {},
     "output_type": "execute_result"
    },
    {
     "data": {
      "image/png": "[encoded data removed]",
      "text/plain": [
       "<Figure size 432x288 with 1 Axes>"
      ]
     },
     "metadata": {
      "needs_background": "light"
     },
     "output_type": "display_data"
    }
   ],
   "source": [
    "df = pd.merge(dfOrig, dfSyn, on='education')\n",
    "df = df.rename(columns={'cnt_x': 'Original', 'cnt_y': 'SynDiffix'})\n",
    "df.plot(kind='bar', x='education')"
   ]
  },
  {
   "cell_type": "markdown",
   "metadata": {},
   "source": [
    "There is a matching SynDiffix bar for every Original bar, so our synthetic data is good. Therefore to keep things simple, we can work with only the synthetic data in what follows."
   ]
  },
  {
   "cell_type": "markdown",
   "metadata": {},
   "source": [
    "There are a lot of different education levels here, so let's use `CASE` to categorize them."
   ]
  },
  {
   "cell_type": "code",
   "execution_count": 12,
   "metadata": {},
   "outputs": [],
   "source": [
    "sql = '''\n",
    "SELECT concat(race, ',', edu_level) AS race_edu, cnt\n",
    "FROM    (SELECT race,\n",
    "\t\tCASE\n",
    "\t\t\tWHEN education IN (\n",
    "\t\t\t'Less than 1st grade',\n",
    "\t\t\t'1st 2nd 3rd or 4th grade',\n",
    "\t\t\t'5th or 6th grade'\n",
    "\t\t\t) THEN '0-6'\n",
    "\t\t\tWHEN education IN (\n",
    "\t\t\t'7th and 8th grade',\n",
    "\t\t\t'9th grade',\n",
    "\t\t\t'10th grade',\n",
    "\t\t\t'11th grade',\n",
    "\t\t\t'12th grade no diploma'\n",
    "\t\t\t) THEN '07-11'\n",
    "\t\t\tWHEN education IN (\n",
    "\t\t\t'High school graduate'\n",
    "\t\t\t) THEN '12'\n",
    "\t\t\tWHEN education IN (\n",
    "\t\t\t'Associates degree-academic program',\n",
    "\t\t\t'Associates degree-occup /vocational',\n",
    "\t\t\t'Bachelors degree(BA AB BS)',\n",
    "\t\t\t'Masters degree(MA MS MEng MEd MSW MBA)',\n",
    "\t\t\t'Prof school degree (MD DDS DVM LLB JD)',\n",
    "\t\t\t'Doctorate degree(PhD EdD)',\n",
    "\t\t\t'Some college but no degree'\n",
    "\t\t\t) THEN '12+'\n",
    "\t\t\tELSE 'NA'\n",
    "\t\tEND AS edu_level,\n",
    "\t\tcount(*) AS cnt\n",
    "\tFROM (SELECT education,\n",
    "\t\t\tCASE\n",
    "\t\t\t\tWHEN race = 'Amer Indian Aleut or Eskimo' THEN 'Other'\n",
    "\t\t\t\tWHEN race = 'Asian or Pacific Islander' THEN 'Other'\n",
    "\t\t\t\tELSE race\n",
    "\t\t\tEND AS race\n",
    "\t\tFROM census_orig_ ) t1\n",
    "\tGROUP BY 1,2 ) t2\n",
    "'''\n",
    "dfOrig, dfSyn = qh.query(sql)"
   ]
  },
  {
   "cell_type": "code",
   "execution_count": 13,
   "metadata": {},
   "outputs": [
    {
     "data": {
      "image/png": "[encoded data removed]",
      "text/plain": [
       "<Figure size 432x288 with 1 Axes>"
      ]
     },
     "metadata": {
      "needs_background": "light"
     },
     "output_type": "display_data"
    }
   ],
   "source": [
    "ax = dfSyn.plot(kind='bar', x='race_edu')"
   ]
  },
  {
   "cell_type": "markdown",
   "metadata": {},
   "source": [
    "We see here that for Whites, there is a substantial increase with each higher education level, whereas for Blacks, in increase is far less."
   ]
  },
  {
   "cell_type": "markdown",
   "metadata": {},
   "source": [
    "Let's go ahead and compare original with synthetic and make sure everything is ok."
   ]
  },
  {
   "cell_type": "code",
   "execution_count": 14,
   "metadata": {},
   "outputs": [
    {
     "data": {
      "text/plain": [
       "<AxesSubplot:xlabel='race_edu'>"
      ]
     },
     "execution_count": 14,
     "metadata": {},
     "output_type": "execute_result"
    },
    {
     "data": {
      "image/png": "[encoded data removed]",
      "text/plain": [
       "<Figure size 432x288 with 1 Axes>"
      ]
     },
     "metadata": {
      "needs_background": "light"
     },
     "output_type": "display_data"
    }
   ],
   "source": [
    "df = pd.merge(dfOrig, dfSyn, on='race_edu')\n",
    "df = df.rename(columns={'cnt_x': 'Original', 'cnt_y': 'SynDiffix'})\n",
    "df.plot(kind='bar', x='race_edu')"
   ]
  },
  {
   "cell_type": "markdown",
   "metadata": {},
   "source": [
    "An important point from this example is that, using a synthetic data approach, any SQL can be used without limitation. "
   ]
  },
  {
   "cell_type": "markdown",
   "metadata": {},
   "source": [
    "## Taxi\n",
    "\n",
    "The taxi data is event (time-series) data. The Protected Entity is the driver, and the column with the Protected Entity ID (PID) is `hack`. \n",
    "\n",
    "> (Note that due to some dirty entries in the original data, pandas failed to select the correct column types for a few columns. They are the two datetime columns and the two dropoff locations.)"
   ]
  },
  {
   "cell_type": "markdown",
   "metadata": {},
   "source": [
    "### Suppression of unique values"
   ]
  },
  {
   "cell_type": "code",
   "execution_count": 15,
   "metadata": {},
   "outputs": [],
   "source": [
    "sql = \"SELECT * FROM taxi_orig_ LIMIT 5\"\n",
    "dfOrigAll, dfSynAll = qh.query(sql)"
   ]
  },
  {
   "cell_type": "code",
   "execution_count": 16,
   "metadata": {},
   "outputs": [
    {
     "data": {
      "text/html": [
       "<div>\n",
       "<style scoped>\n",
       "    .dataframe tbody tr th:only-of-type {\n",
       "        vertical-align: middle;\n",
       "    }\n",
       "\n",
       "    .dataframe tbody tr th {\n",
       "        vertical-align: top;\n",
       "    }\n",
       "\n",
       "    .dataframe thead th {\n",
       "        text-align: right;\n",
       "    }\n",
       "</style>\n",
       "<table border=\"1\" class=\"dataframe\">\n",
       "  <thead>\n",
       "    <tr style=\"text-align: right;\">\n",
       "      <th></th>\n",
       "      <th>index</th>\n",
       "      <th>med</th>\n",
       "      <th>vendor_id</th>\n",
       "      <th>rate_code</th>\n",
       "      <th>sf_flag</th>\n",
       "      <th>pickup_datetime</th>\n",
       "      <th>dropoff_datetime</th>\n",
       "      <th>passenger_count</th>\n",
       "      <th>trip_time_in_secs</th>\n",
       "      <th>trip_distance</th>\n",
       "      <th>...</th>\n",
       "      <th>dropoff_longitude</th>\n",
       "      <th>dropoff_latitude</th>\n",
       "      <th>payment_type</th>\n",
       "      <th>fare_amount</th>\n",
       "      <th>surcharge</th>\n",
       "      <th>mta_tax</th>\n",
       "      <th>tip_amount</th>\n",
       "      <th>tolls_amount</th>\n",
       "      <th>total_amount</th>\n",
       "      <th>lastname</th>\n",
       "    </tr>\n",
       "  </thead>\n",
       "  <tbody>\n",
       "    <tr>\n",
       "      <th>0</th>\n",
       "      <td>0</td>\n",
       "      <td>AF7386DF75DCB4EFFF15740F3F5A5722</td>\n",
       "      <td>CMT</td>\n",
       "      <td>1.0</td>\n",
       "      <td>N</td>\n",
       "      <td>2013-01-08T21:42:52.0000000</td>\n",
       "      <td>2013-01-08T21:57:38.0000000</td>\n",
       "      <td>1.0</td>\n",
       "      <td>885.0</td>\n",
       "      <td>4.00</td>\n",
       "      <td>...</td>\n",
       "      <td>-73.946915</td>\n",
       "      <td>40.77409</td>\n",
       "      <td>CRD</td>\n",
       "      <td>15.0</td>\n",
       "      <td>0.5</td>\n",
       "      <td>0.5</td>\n",
       "      <td>2.0</td>\n",
       "      <td>0.0</td>\n",
       "      <td>18.0</td>\n",
       "      <td>Simpson</td>\n",
       "    </tr>\n",
       "    <tr>\n",
       "      <th>1</th>\n",
       "      <td>1</td>\n",
       "      <td>E81395630B8AF74FE4CF3833E1C5F736</td>\n",
       "      <td>VTS</td>\n",
       "      <td>1.0</td>\n",
       "      <td></td>\n",
       "      <td>2013-01-08T22:06:00.0000000</td>\n",
       "      <td>2013-01-08T22:12:00.0000000</td>\n",
       "      <td>1.0</td>\n",
       "      <td>360.0</td>\n",
       "      <td>1.27</td>\n",
       "      <td>...</td>\n",
       "      <td>-73.971992</td>\n",
       "      <td>40.749821</td>\n",
       "      <td>CSH</td>\n",
       "      <td>6.5</td>\n",
       "      <td>0.5</td>\n",
       "      <td>0.5</td>\n",
       "      <td>0.0</td>\n",
       "      <td>0.0</td>\n",
       "      <td>7.5</td>\n",
       "      <td>Dukes</td>\n",
       "    </tr>\n",
       "    <tr>\n",
       "      <th>2</th>\n",
       "      <td>2</td>\n",
       "      <td>B293D6A8A232BE1C6D6A3E094BC50B51</td>\n",
       "      <td>VTS</td>\n",
       "      <td>1.0</td>\n",
       "      <td></td>\n",
       "      <td>2013-01-08T09:30:00.0000000</td>\n",
       "      <td>2013-01-08T09:38:00.0000000</td>\n",
       "      <td>6.0</td>\n",
       "      <td>480.0</td>\n",
       "      <td>1.36</td>\n",
       "      <td>...</td>\n",
       "      <td>-73.970901</td>\n",
       "      <td>40.798286</td>\n",
       "      <td>CSH</td>\n",
       "      <td>7.5</td>\n",
       "      <td>0.0</td>\n",
       "      <td>0.5</td>\n",
       "      <td>0.0</td>\n",
       "      <td>0.0</td>\n",
       "      <td>8.0</td>\n",
       "      <td>Blalock</td>\n",
       "    </tr>\n",
       "    <tr>\n",
       "      <th>3</th>\n",
       "      <td>3</td>\n",
       "      <td>15D87A6492BD49FBB319F4E657C33A16</td>\n",
       "      <td>CMT</td>\n",
       "      <td>1.0</td>\n",
       "      <td>N</td>\n",
       "      <td>2013-01-08T14:57:19.0000000</td>\n",
       "      <td>2013-01-08T15:04:42.0000000</td>\n",
       "      <td>1.0</td>\n",
       "      <td>443.0</td>\n",
       "      <td>0.60</td>\n",
       "      <td>...</td>\n",
       "      <td>-73.980331</td>\n",
       "      <td>40.756039</td>\n",
       "      <td>CRD</td>\n",
       "      <td>6.5</td>\n",
       "      <td>0.0</td>\n",
       "      <td>0.5</td>\n",
       "      <td>1.4</td>\n",
       "      <td>0.0</td>\n",
       "      <td>8.4</td>\n",
       "      <td>Bunch</td>\n",
       "    </tr>\n",
       "    <tr>\n",
       "      <th>4</th>\n",
       "      <td>4</td>\n",
       "      <td>D41814EBC98E4ED03F5F39F7579DA784</td>\n",
       "      <td>VTS</td>\n",
       "      <td>1.0</td>\n",
       "      <td></td>\n",
       "      <td>2013-01-08T08:00:00.0000000</td>\n",
       "      <td>2013-01-08T08:06:00.0000000</td>\n",
       "      <td>1.0</td>\n",
       "      <td>360.0</td>\n",
       "      <td>1.19</td>\n",
       "      <td>...</td>\n",
       "      <td>-73.976974</td>\n",
       "      <td>40.760853</td>\n",
       "      <td>CRD</td>\n",
       "      <td>6.5</td>\n",
       "      <td>0.0</td>\n",
       "      <td>0.5</td>\n",
       "      <td>1.3</td>\n",
       "      <td>0.0</td>\n",
       "      <td>8.3</td>\n",
       "      <td>Walker</td>\n",
       "    </tr>\n",
       "  </tbody>\n",
       "</table>\n",
       "<p>5 rows × 22 columns</p>\n",
       "</div>"
      ],
      "text/plain": [
       "   index                               med vendor_id  rate_code sf_flag  \\\n",
       "0      0  AF7386DF75DCB4EFFF15740F3F5A5722       CMT        1.0       N   \n",
       "1      1  E81395630B8AF74FE4CF3833E1C5F736       VTS        1.0           \n",
       "2      2  B293D6A8A232BE1C6D6A3E094BC50B51       VTS        1.0           \n",
       "3      3  15D87A6492BD49FBB319F4E657C33A16       CMT        1.0       N   \n",
       "4      4  D41814EBC98E4ED03F5F39F7579DA784       VTS        1.0           \n",
       "\n",
       "               pickup_datetime             dropoff_datetime  passenger_count  \\\n",
       "0  2013-01-08T21:42:52.0000000  2013-01-08T21:57:38.0000000              1.0   \n",
       "1  2013-01-08T22:06:00.0000000  2013-01-08T22:12:00.0000000              1.0   \n",
       "2  2013-01-08T09:30:00.0000000  2013-01-08T09:38:00.0000000              6.0   \n",
       "3  2013-01-08T14:57:19.0000000  2013-01-08T15:04:42.0000000              1.0   \n",
       "4  2013-01-08T08:00:00.0000000  2013-01-08T08:06:00.0000000              1.0   \n",
       "\n",
       "   trip_time_in_secs  trip_distance  ...  dropoff_longitude  dropoff_latitude  \\\n",
       "0              885.0           4.00  ...         -73.946915          40.77409   \n",
       "1              360.0           1.27  ...         -73.971992         40.749821   \n",
       "2              480.0           1.36  ...         -73.970901         40.798286   \n",
       "3              443.0           0.60  ...         -73.980331         40.756039   \n",
       "4              360.0           1.19  ...         -73.976974         40.760853   \n",
       "\n",
       "  payment_type fare_amount surcharge  mta_tax  tip_amount  tolls_amount  \\\n",
       "0          CRD        15.0       0.5      0.5         2.0           0.0   \n",
       "1          CSH         6.5       0.5      0.5         0.0           0.0   \n",
       "2          CSH         7.5       0.0      0.5         0.0           0.0   \n",
       "3          CRD         6.5       0.0      0.5         1.4           0.0   \n",
       "4          CRD         6.5       0.0      0.5         1.3           0.0   \n",
       "\n",
       "   total_amount  lastname  \n",
       "0          18.0   Simpson  \n",
       "1           7.5     Dukes  \n",
       "2           8.0   Blalock  \n",
       "3           8.4     Bunch  \n",
       "4           8.3    Walker  \n",
       "\n",
       "[5 rows x 22 columns]"
      ]
     },
     "execution_count": 16,
     "metadata": {},
     "output_type": "execute_result"
    }
   ],
   "source": [
    "dfOrigAll.head()"
   ]
  },
  {
   "cell_type": "code",
   "execution_count": 17,
   "metadata": {},
   "outputs": [
    {
     "data": {
      "text/html": [
       "<div>\n",
       "<style scoped>\n",
       "    .dataframe tbody tr th:only-of-type {\n",
       "        vertical-align: middle;\n",
       "    }\n",
       "\n",
       "    .dataframe tbody tr th {\n",
       "        vertical-align: top;\n",
       "    }\n",
       "\n",
       "    .dataframe thead th {\n",
       "        text-align: right;\n",
       "    }\n",
       "</style>\n",
       "<table border=\"1\" class=\"dataframe\">\n",
       "  <thead>\n",
       "    <tr style=\"text-align: right;\">\n",
       "      <th></th>\n",
       "      <th>index</th>\n",
       "      <th>med</th>\n",
       "      <th>vendor_id</th>\n",
       "      <th>rate_code</th>\n",
       "      <th>sf_flag</th>\n",
       "      <th>pickup_datetime</th>\n",
       "      <th>dropoff_datetime</th>\n",
       "      <th>passenger_count</th>\n",
       "      <th>trip_time_in_secs</th>\n",
       "      <th>trip_distance</th>\n",
       "      <th>...</th>\n",
       "      <th>dropoff_longitude</th>\n",
       "      <th>dropoff_latitude</th>\n",
       "      <th>payment_type</th>\n",
       "      <th>fare_amount</th>\n",
       "      <th>surcharge</th>\n",
       "      <th>mta_tax</th>\n",
       "      <th>tip_amount</th>\n",
       "      <th>tolls_amount</th>\n",
       "      <th>total_amount</th>\n",
       "      <th>lastname</th>\n",
       "    </tr>\n",
       "  </thead>\n",
       "  <tbody>\n",
       "    <tr>\n",
       "      <th>0</th>\n",
       "      <td>0</td>\n",
       "      <td>F*12453</td>\n",
       "      <td>VTS</td>\n",
       "      <td>1.0</td>\n",
       "      <td></td>\n",
       "      <td>2013-01-07T23:50:00.0000000</td>\n",
       "      <td>2013-01-07T23:52:41.5209008</td>\n",
       "      <td>5.0</td>\n",
       "      <td>62.0</td>\n",
       "      <td>0.44</td>\n",
       "      <td>...</td>\n",
       "      <td>-73.9451*10629</td>\n",
       "      <td>40.8*48312</td>\n",
       "      <td>CSH</td>\n",
       "      <td>3.5</td>\n",
       "      <td>0.0</td>\n",
       "      <td>0.5</td>\n",
       "      <td>0.0</td>\n",
       "      <td>0.0</td>\n",
       "      <td>4.5</td>\n",
       "      <td>Morgan</td>\n",
       "    </tr>\n",
       "    <tr>\n",
       "      <th>1</th>\n",
       "      <td>1</td>\n",
       "      <td>E0*11379</td>\n",
       "      <td>CMT</td>\n",
       "      <td>1.0</td>\n",
       "      <td>N</td>\n",
       "      <td>2013-01-07T23:50:00.0000000</td>\n",
       "      <td>2013-01-08T00:00:00.0000000</td>\n",
       "      <td>1.0</td>\n",
       "      <td>300.0</td>\n",
       "      <td>0.55</td>\n",
       "      <td>...</td>\n",
       "      <td>-73.966087</td>\n",
       "      <td>40.8*47565</td>\n",
       "      <td>CSH</td>\n",
       "      <td>4.5</td>\n",
       "      <td>0.0</td>\n",
       "      <td>0.5</td>\n",
       "      <td>0.0</td>\n",
       "      <td>0.0</td>\n",
       "      <td>5.5</td>\n",
       "      <td>Kr*5975</td>\n",
       "    </tr>\n",
       "    <tr>\n",
       "      <th>2</th>\n",
       "      <td>2</td>\n",
       "      <td>E0*11379</td>\n",
       "      <td>CMT</td>\n",
       "      <td>2.0</td>\n",
       "      <td>N</td>\n",
       "      <td>2013-01-07T23:51:00.0000000</td>\n",
       "      <td>2013-01-07T23:54:09.0151600</td>\n",
       "      <td>1.0</td>\n",
       "      <td>300.0</td>\n",
       "      <td>0.55</td>\n",
       "      <td>...</td>\n",
       "      <td>-73.938103</td>\n",
       "      <td>40.8047*47565</td>\n",
       "      <td>CSH</td>\n",
       "      <td>4.5</td>\n",
       "      <td>0.0</td>\n",
       "      <td>0.5</td>\n",
       "      <td>0.0</td>\n",
       "      <td>0.0</td>\n",
       "      <td>5.5</td>\n",
       "      <td>Kr*5975</td>\n",
       "    </tr>\n",
       "    <tr>\n",
       "      <th>3</th>\n",
       "      <td>3</td>\n",
       "      <td>163*1152</td>\n",
       "      <td>CMT</td>\n",
       "      <td>1.0</td>\n",
       "      <td>N</td>\n",
       "      <td>2013-01-07T23:49:48.5231880</td>\n",
       "      <td>2013-01-08T00:03:00.0000000</td>\n",
       "      <td>1.0</td>\n",
       "      <td>1620.0</td>\n",
       "      <td>5.80</td>\n",
       "      <td>...</td>\n",
       "      <td>-73.961365</td>\n",
       "      <td>40.71443*12443</td>\n",
       "      <td>CSH</td>\n",
       "      <td>21.5</td>\n",
       "      <td>0.0</td>\n",
       "      <td>0.5</td>\n",
       "      <td>0.0</td>\n",
       "      <td>0.0</td>\n",
       "      <td>26.4</td>\n",
       "      <td>To*11050</td>\n",
       "    </tr>\n",
       "    <tr>\n",
       "      <th>4</th>\n",
       "      <td>4</td>\n",
       "      <td>163*1152</td>\n",
       "      <td>CMT</td>\n",
       "      <td>1.0</td>\n",
       "      <td>N</td>\n",
       "      <td>2013-01-08T00:02:00.0000000</td>\n",
       "      <td>2013-01-08T00:01:00.0000000</td>\n",
       "      <td>1.0</td>\n",
       "      <td>1620.0</td>\n",
       "      <td>5.80</td>\n",
       "      <td>...</td>\n",
       "      <td>-74.009865</td>\n",
       "      <td>40.7144*12445</td>\n",
       "      <td>CSH</td>\n",
       "      <td>21.5</td>\n",
       "      <td>0.0</td>\n",
       "      <td>0.5</td>\n",
       "      <td>0.0</td>\n",
       "      <td>0.0</td>\n",
       "      <td>26.4</td>\n",
       "      <td>To*11050</td>\n",
       "    </tr>\n",
       "  </tbody>\n",
       "</table>\n",
       "<p>5 rows × 22 columns</p>\n",
       "</div>"
      ],
      "text/plain": [
       "   index       med vendor_id  rate_code sf_flag              pickup_datetime  \\\n",
       "0      0   F*12453       VTS        1.0          2013-01-07T23:50:00.0000000   \n",
       "1      1  E0*11379       CMT        1.0       N  2013-01-07T23:50:00.0000000   \n",
       "2      2  E0*11379       CMT        2.0       N  2013-01-07T23:51:00.0000000   \n",
       "3      3  163*1152       CMT        1.0       N  2013-01-07T23:49:48.5231880   \n",
       "4      4  163*1152       CMT        1.0       N  2013-01-08T00:02:00.0000000   \n",
       "\n",
       "              dropoff_datetime  passenger_count  trip_time_in_secs  \\\n",
       "0  2013-01-07T23:52:41.5209008              5.0               62.0   \n",
       "1  2013-01-08T00:00:00.0000000              1.0              300.0   \n",
       "2  2013-01-07T23:54:09.0151600              1.0              300.0   \n",
       "3  2013-01-08T00:03:00.0000000              1.0             1620.0   \n",
       "4  2013-01-08T00:01:00.0000000              1.0             1620.0   \n",
       "\n",
       "   trip_distance  ...  dropoff_longitude  dropoff_latitude payment_type  \\\n",
       "0           0.44  ...     -73.9451*10629        40.8*48312          CSH   \n",
       "1           0.55  ...         -73.966087        40.8*47565          CSH   \n",
       "2           0.55  ...         -73.938103     40.8047*47565          CSH   \n",
       "3           5.80  ...         -73.961365    40.71443*12443          CSH   \n",
       "4           5.80  ...         -74.009865     40.7144*12445          CSH   \n",
       "\n",
       "  fare_amount surcharge  mta_tax  tip_amount  tolls_amount  total_amount  \\\n",
       "0         3.5       0.0      0.5         0.0           0.0           4.5   \n",
       "1         4.5       0.0      0.5         0.0           0.0           5.5   \n",
       "2         4.5       0.0      0.5         0.0           0.0           5.5   \n",
       "3        21.5       0.0      0.5         0.0           0.0          26.4   \n",
       "4        21.5       0.0      0.5         0.0           0.0          26.4   \n",
       "\n",
       "   lastname  \n",
       "0    Morgan  \n",
       "1   Kr*5975  \n",
       "2   Kr*5975  \n",
       "3  To*11050  \n",
       "4  To*11050  \n",
       "\n",
       "[5 rows x 22 columns]"
      ]
     },
     "execution_count": 17,
     "metadata": {},
     "output_type": "execute_result"
    }
   ],
   "source": [
    "dfSynAll.head()"
   ]
  },
  {
   "cell_type": "markdown",
   "metadata": {},
   "source": [
    "The `taxi` data has two columns that contain many unique text values (besides the four incorrectly typed columns). They are `med` and `lastname`. `med` is the taxi number, and for this dataset most drivers used only one taxi. As can be seen, when a value must be suppressed, SynDiffix as currently implemented displays as much of the string prefix as possible followed by `*` and a number. This can be improved to produce a syntactically correct string, but we haven't done that work yet.\n",
    "\n",
    "Looking at `lastname`, the reason that 'Morgan' is displayed properly is because there are multiple drivers with that name, and so it does not need to be suppressed."
   ]
  },
  {
   "cell_type": "markdown",
   "metadata": {},
   "source": [
    "### Basic statistics for fare_amount"
   ]
  },
  {
   "cell_type": "markdown",
   "metadata": {},
   "source": [
    "Let's look at the basic statistics for `fare_amount`."
   ]
  },
  {
   "cell_type": "code",
   "execution_count": 18,
   "metadata": {},
   "outputs": [],
   "source": [
    "sql = '''\n",
    "SELECT count(fare_amount) as count,\n",
    "       count(distinct fare_amount) as distinct,\n",
    "       avg(fare_amount) as avg,\n",
    "       stddev(fare_amount) as stdev,\n",
    "       min(fare_amount) as min,\n",
    "       max(fare_amount) as max\n",
    "FROM taxi_orig_'''\n",
    "dfOrig, dfSyn = qh.query(sql)"
   ]
  },
  {
   "cell_type": "code",
   "execution_count": 19,
   "metadata": {},
   "outputs": [
    {
     "data": {
      "text/html": [
       "<div>\n",
       "<style scoped>\n",
       "    .dataframe tbody tr th:only-of-type {\n",
       "        vertical-align: middle;\n",
       "    }\n",
       "\n",
       "    .dataframe tbody tr th {\n",
       "        vertical-align: top;\n",
       "    }\n",
       "\n",
       "    .dataframe thead th {\n",
       "        text-align: right;\n",
       "    }\n",
       "</style>\n",
       "<table border=\"1\" class=\"dataframe\">\n",
       "  <thead>\n",
       "    <tr style=\"text-align: right;\">\n",
       "      <th></th>\n",
       "      <th>count</th>\n",
       "      <th>distinct</th>\n",
       "      <th>avg</th>\n",
       "      <th>stdev</th>\n",
       "      <th>min</th>\n",
       "      <th>max</th>\n",
       "    </tr>\n",
       "  </thead>\n",
       "  <tbody>\n",
       "    <tr>\n",
       "      <th>0</th>\n",
       "      <td>308179</td>\n",
       "      <td>294</td>\n",
       "      <td>11.503308</td>\n",
       "      <td>9.440779</td>\n",
       "      <td>2.5</td>\n",
       "      <td>300.0</td>\n",
       "    </tr>\n",
       "  </tbody>\n",
       "</table>\n",
       "</div>"
      ],
      "text/plain": [
       "    count  distinct        avg     stdev  min    max\n",
       "0  308179       294  11.503308  9.440779  2.5  300.0"
      ]
     },
     "execution_count": 19,
     "metadata": {},
     "output_type": "execute_result"
    }
   ],
   "source": [
    "dfOrig.head()"
   ]
  },
  {
   "cell_type": "code",
   "execution_count": 20,
   "metadata": {},
   "outputs": [
    {
     "data": {
      "text/html": [
       "<div>\n",
       "<style scoped>\n",
       "    .dataframe tbody tr th:only-of-type {\n",
       "        vertical-align: middle;\n",
       "    }\n",
       "\n",
       "    .dataframe tbody tr th {\n",
       "        vertical-align: top;\n",
       "    }\n",
       "\n",
       "    .dataframe thead th {\n",
       "        text-align: right;\n",
       "    }\n",
       "</style>\n",
       "<table border=\"1\" class=\"dataframe\">\n",
       "  <thead>\n",
       "    <tr style=\"text-align: right;\">\n",
       "      <th></th>\n",
       "      <th>count</th>\n",
       "      <th>distinct</th>\n",
       "      <th>avg</th>\n",
       "      <th>stdev</th>\n",
       "      <th>min</th>\n",
       "      <th>max</th>\n",
       "    </tr>\n",
       "  </thead>\n",
       "  <tbody>\n",
       "    <tr>\n",
       "      <th>0</th>\n",
       "      <td>308186</td>\n",
       "      <td>264</td>\n",
       "      <td>11.504305</td>\n",
       "      <td>9.43207</td>\n",
       "      <td>2.5</td>\n",
       "      <td>255.354771</td>\n",
       "    </tr>\n",
       "  </tbody>\n",
       "</table>\n",
       "</div>"
      ],
      "text/plain": [
       "    count  distinct        avg    stdev  min         max\n",
       "0  308186       264  11.504305  9.43207  2.5  255.354771"
      ]
     },
     "execution_count": 20,
     "metadata": {},
     "output_type": "execute_result"
    }
   ],
   "source": [
    "dfSyn.head()"
   ]
  },
  {
   "cell_type": "markdown",
   "metadata": {},
   "source": [
    "While the average and standard deviation are very accurate, the max is off by a substantial amount (255 instead of 300). This is because SynDiffix reduces the values of outliers so as to more closely match other values (i.e. to \"hide\" the outliers among other values)."
   ]
  },
  {
   "cell_type": "markdown",
   "metadata": {},
   "source": [
    "### Flattening of outlier values"
   ]
  },
  {
   "cell_type": "markdown",
   "metadata": {},
   "source": [
    "Let's look at the highest `fare_amount` values more closely."
   ]
  },
  {
   "cell_type": "code",
   "execution_count": 21,
   "metadata": {},
   "outputs": [],
   "source": [
    "sql = '''\n",
    "SELECT fare_amount\n",
    "FROM taxi_orig_\n",
    "ORDER BY fare_amount DESC\n",
    "LIMIT 50000\n",
    "'''\n",
    "dfOrig, dfSyn = qh.query(sql)"
   ]
  },
  {
   "cell_type": "code",
   "execution_count": 22,
   "metadata": {},
   "outputs": [
    {
     "data": {
      "text/html": [
       "<div>\n",
       "<style scoped>\n",
       "    .dataframe tbody tr th:only-of-type {\n",
       "        vertical-align: middle;\n",
       "    }\n",
       "\n",
       "    .dataframe tbody tr th {\n",
       "        vertical-align: top;\n",
       "    }\n",
       "\n",
       "    .dataframe thead th {\n",
       "        text-align: right;\n",
       "    }\n",
       "</style>\n",
       "<table border=\"1\" class=\"dataframe\">\n",
       "  <thead>\n",
       "    <tr style=\"text-align: right;\">\n",
       "      <th></th>\n",
       "      <th>fare_amount</th>\n",
       "    </tr>\n",
       "  </thead>\n",
       "  <tbody>\n",
       "    <tr>\n",
       "      <th>0</th>\n",
       "      <td>300.0</td>\n",
       "    </tr>\n",
       "    <tr>\n",
       "      <th>1</th>\n",
       "      <td>285.0</td>\n",
       "    </tr>\n",
       "    <tr>\n",
       "      <th>2</th>\n",
       "      <td>285.0</td>\n",
       "    </tr>\n",
       "    <tr>\n",
       "      <th>3</th>\n",
       "      <td>249.5</td>\n",
       "    </tr>\n",
       "    <tr>\n",
       "      <th>4</th>\n",
       "      <td>248.0</td>\n",
       "    </tr>\n",
       "    <tr>\n",
       "      <th>5</th>\n",
       "      <td>240.0</td>\n",
       "    </tr>\n",
       "    <tr>\n",
       "      <th>6</th>\n",
       "      <td>232.5</td>\n",
       "    </tr>\n",
       "    <tr>\n",
       "      <th>7</th>\n",
       "      <td>225.0</td>\n",
       "    </tr>\n",
       "  </tbody>\n",
       "</table>\n",
       "</div>"
      ],
      "text/plain": [
       "   fare_amount\n",
       "0        300.0\n",
       "1        285.0\n",
       "2        285.0\n",
       "3        249.5\n",
       "4        248.0\n",
       "5        240.0\n",
       "6        232.5\n",
       "7        225.0"
      ]
     },
     "execution_count": 22,
     "metadata": {},
     "output_type": "execute_result"
    }
   ],
   "source": [
    "dfOrig.head(8)"
   ]
  },
  {
   "cell_type": "code",
   "execution_count": 23,
   "metadata": {},
   "outputs": [
    {
     "data": {
      "text/html": [
       "<div>\n",
       "<style scoped>\n",
       "    .dataframe tbody tr th:only-of-type {\n",
       "        vertical-align: middle;\n",
       "    }\n",
       "\n",
       "    .dataframe tbody tr th {\n",
       "        vertical-align: top;\n",
       "    }\n",
       "\n",
       "    .dataframe thead th {\n",
       "        text-align: right;\n",
       "    }\n",
       "</style>\n",
       "<table border=\"1\" class=\"dataframe\">\n",
       "  <thead>\n",
       "    <tr style=\"text-align: right;\">\n",
       "      <th></th>\n",
       "      <th>fare_amount</th>\n",
       "    </tr>\n",
       "  </thead>\n",
       "  <tbody>\n",
       "    <tr>\n",
       "      <th>0</th>\n",
       "      <td>255.354771</td>\n",
       "    </tr>\n",
       "    <tr>\n",
       "      <th>1</th>\n",
       "      <td>252.393973</td>\n",
       "    </tr>\n",
       "    <tr>\n",
       "      <th>2</th>\n",
       "      <td>251.847243</td>\n",
       "    </tr>\n",
       "    <tr>\n",
       "      <th>3</th>\n",
       "      <td>250.585804</td>\n",
       "    </tr>\n",
       "    <tr>\n",
       "      <th>4</th>\n",
       "      <td>250.011757</td>\n",
       "    </tr>\n",
       "    <tr>\n",
       "      <th>5</th>\n",
       "      <td>245.230144</td>\n",
       "    </tr>\n",
       "    <tr>\n",
       "      <th>6</th>\n",
       "      <td>232.853112</td>\n",
       "    </tr>\n",
       "    <tr>\n",
       "      <th>7</th>\n",
       "      <td>227.322681</td>\n",
       "    </tr>\n",
       "  </tbody>\n",
       "</table>\n",
       "</div>"
      ],
      "text/plain": [
       "   fare_amount\n",
       "0   255.354771\n",
       "1   252.393973\n",
       "2   251.847243\n",
       "3   250.585804\n",
       "4   250.011757\n",
       "5   245.230144\n",
       "6   232.853112\n",
       "7   227.322681"
      ]
     },
     "execution_count": 23,
     "metadata": {},
     "output_type": "execute_result"
    }
   ],
   "source": [
    "dfSyn.head(8)"
   ]
  },
  {
   "cell_type": "markdown",
   "metadata": {},
   "source": [
    "Above we can see that the values of the top three `fare_amount`'s were reduced (\"flattened\") to values close to the next few. "
   ]
  },
  {
   "cell_type": "code",
   "execution_count": 24,
   "metadata": {},
   "outputs": [
    {
     "data": {
      "text/plain": [
       "<AxesSubplot:>"
      ]
     },
     "execution_count": 24,
     "metadata": {},
     "output_type": "execute_result"
    },
    {
     "data": {
      "image/png": "[encoded data removed]",
      "text/plain": [
       "<Figure size 432x288 with 1 Axes>"
      ]
     },
     "metadata": {
      "needs_background": "light"
     },
     "output_type": "display_data"
    }
   ],
   "source": [
    "df = pd.concat([dfOrig['fare_amount'], dfSyn['fare_amount']], axis=1, keys=['Orig fare_amount', 'Syn fare_amount'])\n",
    "df.plot(y=['Orig fare_amount','Syn fare_amount'])"
   ]
  },
  {
   "cell_type": "markdown",
   "metadata": {},
   "source": [
    "Here we see that the ordered `fare_amount` for original and synthetic data track very closely, with the exception of the original outliers."
   ]
  },
  {
   "cell_type": "markdown",
   "metadata": {},
   "source": [
    "### Column pair statistics\n",
    "\n",
    "Let's look at a few statistics regarding how `fare_amount` and `trip_distance` relate to each other. We expect these two columns to have a strong correlation."
   ]
  },
  {
   "cell_type": "code",
   "execution_count": 25,
   "metadata": {},
   "outputs": [],
   "source": [
    "sql = ''' \n",
    "SELECT corr(fare_amount, trip_distance) as correlation,\n",
    "       covar_pop(fare_amount, trip_distance) as covariance,\n",
    "       regr_intercept(fare_amount, trip_distance) as intercept\n",
    "FROM taxi_orig_\n",
    "'''\n",
    "dfOrig, dfSyn = qh.query(sql)"
   ]
  },
  {
   "cell_type": "code",
   "execution_count": 26,
   "metadata": {},
   "outputs": [
    {
     "data": {
      "text/html": [
       "<div>\n",
       "<style scoped>\n",
       "    .dataframe tbody tr th:only-of-type {\n",
       "        vertical-align: middle;\n",
       "    }\n",
       "\n",
       "    .dataframe tbody tr th {\n",
       "        vertical-align: top;\n",
       "    }\n",
       "\n",
       "    .dataframe thead th {\n",
       "        text-align: right;\n",
       "    }\n",
       "</style>\n",
       "<table border=\"1\" class=\"dataframe\">\n",
       "  <thead>\n",
       "    <tr style=\"text-align: right;\">\n",
       "      <th></th>\n",
       "      <th>correlation</th>\n",
       "      <th>covariance</th>\n",
       "      <th>intercept</th>\n",
       "    </tr>\n",
       "  </thead>\n",
       "  <tbody>\n",
       "    <tr>\n",
       "      <th>0</th>\n",
       "      <td>0.885897</td>\n",
       "      <td>27.202688</td>\n",
       "      <td>4.522786</td>\n",
       "    </tr>\n",
       "  </tbody>\n",
       "</table>\n",
       "</div>"
      ],
      "text/plain": [
       "   correlation  covariance  intercept\n",
       "0     0.885897   27.202688   4.522786"
      ]
     },
     "execution_count": 26,
     "metadata": {},
     "output_type": "execute_result"
    }
   ],
   "source": [
    "dfOrig.head()"
   ]
  },
  {
   "cell_type": "code",
   "execution_count": 27,
   "metadata": {},
   "outputs": [
    {
     "data": {
      "text/html": [
       "<div>\n",
       "<style scoped>\n",
       "    .dataframe tbody tr th:only-of-type {\n",
       "        vertical-align: middle;\n",
       "    }\n",
       "\n",
       "    .dataframe tbody tr th {\n",
       "        vertical-align: top;\n",
       "    }\n",
       "\n",
       "    .dataframe thead th {\n",
       "        text-align: right;\n",
       "    }\n",
       "</style>\n",
       "<table border=\"1\" class=\"dataframe\">\n",
       "  <thead>\n",
       "    <tr style=\"text-align: right;\">\n",
       "      <th></th>\n",
       "      <th>correlation</th>\n",
       "      <th>covariance</th>\n",
       "      <th>intercept</th>\n",
       "    </tr>\n",
       "  </thead>\n",
       "  <tbody>\n",
       "    <tr>\n",
       "      <th>0</th>\n",
       "      <td>0.887138</td>\n",
       "      <td>26.876243</td>\n",
       "      <td>4.52374</td>\n",
       "    </tr>\n",
       "  </tbody>\n",
       "</table>\n",
       "</div>"
      ],
      "text/plain": [
       "   correlation  covariance  intercept\n",
       "0     0.887138   26.876243    4.52374"
      ]
     },
     "execution_count": 27,
     "metadata": {},
     "output_type": "execute_result"
    }
   ],
   "source": [
    "dfSyn.head()"
   ]
  },
  {
   "cell_type": "markdown",
   "metadata": {},
   "source": [
    "The main point to observe here is that these pairwise statistics for the synthetic data are quite accurate. Both correlation and the y-intercept of the least squares fit are well within 1%. The covariance is off by about 1.2%. \n",
    "\n",
    "As expected, the correlation is high."
   ]
  }
 ],
 "metadata": {
  "kernelspec": {
   "display_name": "Python 3",
   "language": "python",
   "name": "python3"
  },
  "language_info": {
   "codemirror_mode": {
    "name": "ipython",
    "version": 3
   },
   "file_extension": ".py",
   "mimetype": "text/x-python",
   "name": "python",
   "nbconvert_exporter": "python",
   "pygments_lexer": "ipython3",
   "version": "3.9.7"
  },
  "orig_nbformat": 4
 },
 "nbformat": 4,
 "nbformat_minor": 2
}
